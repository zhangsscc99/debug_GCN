{
 "cells": [
  {
   "cell_type": "code",
   "execution_count": 1,
   "metadata": {},
   "outputs": [
    {
     "name": "stdout",
     "output_type": "stream",
     "text": [
      "torch.Size([100, 10])\n",
      "torch.Size([100, 1])\n",
      "Sequential(\n",
      "  (0): Linear(in_features=10, out_features=15, bias=True)\n",
      "  (1): ReLU()\n",
      "  (2): Linear(in_features=15, out_features=1, bias=True)\n",
      "  (3): Sigmoid()\n",
      ")\n"
     ]
    }
   ],
   "source": [
    "import torch\n",
    "import torch.nn as nn\n",
    "\n",
    "n_input, n_hidden, n_out, batch_size, learning_rate = 10, 15, 1, 100, 0.01\n",
    "\n",
    "data_x = torch.randn(batch_size, n_input)\n",
    "data_y = (torch.rand(size=(batch_size, 1)) < 0.5).float()\n",
    "\n",
    "print(data_x.size())\n",
    "print(data_y.size())\n",
    "\n",
    "model = nn.Sequential(nn.Linear(n_input, n_hidden),\n",
    "                      nn.ReLU(),\n",
    "                      nn.Linear(n_hidden, n_out),\n",
    "                      nn.Sigmoid())\n",
    "print(model)\n",
    "\n",
    "loss_function = nn.MSELoss()\n",
    "optimizer = torch.optim.SGD(model.parameters(), lr=learning_rate)\n",
    "\n",
    "losses = []\n",
    "for epoch in range(5):\n",
    "    pred_y = model(data_x)\n",
    "    loss = loss_function(pred_y, data_y)\n",
    "    losses.append(loss.item())\n",
    "\n",
    "    model.zero_grad()\n",
    "    loss.backward()\n",
    "\n",
    "    optimizer.step()"
   ]
  },
  {
   "cell_type": "code",
   "execution_count": 2,
   "metadata": {},
   "outputs": [
    {
     "data": {
      "image/png": "[encoded data removed]",
      "text/plain": [
       "<Figure size 432x288 with 1 Axes>"
      ]
     },
     "metadata": {
      "needs_background": "light"
     },
     "output_type": "display_data"
    },
    {
     "name": "stdout",
     "output_type": "stream",
     "text": [
      "finished\n"
     ]
    }
   ],
   "source": [
    "import matplotlib.pyplot as plt\n",
    "plt.plot(losses)\n",
    "plt.ylabel('loss')\n",
    "plt.xlabel('epoch')\n",
    "plt.title(\"Learning rate %f\"%(learning_rate))\n",
    "plt.show()\n",
    "print(\"finished\")"
   ]
  },
  {
   "cell_type": "code",
   "execution_count": 6,
   "metadata": {},
   "outputs": [
    {
     "name": "stdout",
     "output_type": "stream",
     "text": [
      "torch.Size([10, 50])\n",
      "tensor([[ 0.1630],\n",
      "        [ 0.2238],\n",
      "        [ 0.0867],\n",
      "        [ 0.1460],\n",
      "        [ 0.2034],\n",
      "        [ 0.0095],\n",
      "        [ 0.1659],\n",
      "        [ 0.1858],\n",
      "        [-0.2097],\n",
      "        [-0.0865]], grad_fn=<AddmmBackward0>)\n",
      "torch.Size([10, 1])\n"
     ]
    }
   ],
   "source": [
    "import torch\n",
    "import torch.nn as nn\n",
    "\n",
    "class RegressionModel(nn.Module):\n",
    "    def __init__(self, input_size, hidden_size, output_size):\n",
    "        super(RegressionModel, self).__init__()\n",
    "        self.fc1 = nn.Linear(input_size, hidden_size)\n",
    "        self.fc2 = nn.Linear(hidden_size, output_size)\n",
    "    \n",
    "    def forward(self, x):\n",
    "        x = torch.relu(self.fc1(x))\n",
    "        x = self.fc2(x)\n",
    "        return x\n",
    "\n",
    "input_size = 50\n",
    "hidden_size = 100\n",
    "output_size = 1\n",
    "model = RegressionModel(input_size, hidden_size, output_size)\n",
    "\n",
    "\n",
    "# Example input\n",
    "matrix1 = torch.tensor([torch.randn(10, 20)])\n",
    "matrix2 = torch.tensor([torch.randn(10, 30)])\n",
    "inputs = torch.cat((matrix1, matrix2), dim=1)\n",
    "print(inputs.shape)\n",
    "# Make prediction\n",
    "output = model(inputs)\n",
    "\n",
    "# Output shape should be (10, 1)\n",
    "print(output)\n",
    "print(output.shape)\n",
    "\n",
    "#18*40\n",
    "#18\n"
   ]
  },
  {
   "cell_type": "code",
   "execution_count": 21,
   "metadata": {},
   "outputs": [],
   "source": [
    "matrix1 = torch.randn(10, 20)\n",
    "matrix2 = torch.randn(10, 20)\n",
    "\n",
    "inputs = torch.stack([matrix1, matrix2], dim=0)"
   ]
  },
  {
   "cell_type": "code",
   "execution_count": 22,
   "metadata": {},
   "outputs": [
    {
     "data": {
      "text/plain": [
       "torch.Size([2, 10, 20])"
      ]
     },
     "execution_count": 22,
     "metadata": {},
     "output_type": "execute_result"
    }
   ],
   "source": [
    "inputs.shape"
   ]
  },
  {
   "cell_type": "code",
   "execution_count": 7,
   "metadata": {},
   "outputs": [],
   "source": [
    "import torch\n",
    "import torch.nn as nn\n",
    "\n",
    "class RegressionModel(nn.Module):\n",
    "    def __init__(self, input_size, hidden_size, output_size):\n",
    "        super(RegressionModel, self).__init__()\n",
    "        self.fc1 = nn.Linear(input_size, hidden_size)\n",
    "        self.fc2 = nn.Linear(hidden_size, output_size)\n",
    "    \n",
    "    def forward(self, x):\n",
    "        x = torch.relu(self.fc1(x))\n",
    "        x = self.fc2(x)\n",
    "        return x\n",
    "\n",
    "input_size = 10 * 10\n",
    "hidden_size = 100\n",
    "output_size = 1\n",
    "model = RegressionModel(input_size, hidden_size, output_size)\n"
   ]
  },
  {
   "cell_type": "code",
   "execution_count": 9,
   "metadata": {},
   "outputs": [],
   "source": [
    "import torch\n",
    "import torch.nn as nn\n",
    "\n",
    "class RegressionModel(nn.Module):\n",
    "    def __init__(self, input_size, hidden_size, output_size):\n",
    "        super(RegressionModel, self).__init__()\n",
    "        self.fc1 = nn.Linear(input_size, hidden_size)\n",
    "        self.fc2 = nn.Linear(hidden_size, output_size)\n",
    "    \n",
    "    def forward(self, x):\n",
    "        x = torch.relu(self.fc1(x))\n",
    "        x = self.fc2(x)\n",
    "        return x\n",
    "\n",
    "input_size = 10 * 10\n",
    "hidden_size = 100\n",
    "output_size = 1\n",
    "model = RegressionModel(input_size, hidden_size, output_size)\n"
   ]
  },
  {
   "cell_type": "code",
   "execution_count": 29,
   "metadata": {},
   "outputs": [
    {
     "name": "stdout",
     "output_type": "stream",
     "text": [
      "tensor([[ 2.1457e-01,  8.3390e-01, -9.3328e-01,  2.2620e+00,  2.1751e+00,\n",
      "         -1.9480e-01,  1.4410e+00, -7.5444e-01,  9.2735e-01, -2.2985e-01,\n",
      "          9.3893e-01, -1.6378e+00,  1.2543e+00, -1.5432e+00, -1.9700e-01,\n",
      "          2.5318e-01, -1.0338e+00,  2.3779e+00,  5.5570e-01,  1.1261e+00,\n",
      "          1.5549e+00,  1.9777e-01,  4.8078e-01,  1.0353e-01,  1.1391e+00,\n",
      "         -2.8876e-01,  9.4542e-01,  9.5926e-01,  5.6453e-01, -4.3144e-01,\n",
      "          9.1730e-01,  9.1194e-02,  3.4406e-01,  1.1838e+00,  2.3152e+00,\n",
      "          7.4741e-01, -9.4294e-02,  4.2352e-01, -1.0186e+00, -2.9120e-01,\n",
      "         -3.2254e-01,  2.3194e-01,  9.5326e-01,  2.4620e-01,  1.6672e+00,\n",
      "         -2.3022e-01, -9.5968e-01, -2.9818e-02,  3.5802e-02,  2.4277e-01,\n",
      "         -1.0481e+00,  1.5192e+00, -1.5891e+00,  4.4907e-01,  1.2772e+00,\n",
      "         -9.6365e-02, -8.4669e-02,  1.1082e+00, -3.4326e-01, -7.2916e-01,\n",
      "          1.1124e+00,  2.2330e+00, -8.1994e-01,  1.9605e-01, -9.6274e-01,\n",
      "         -8.8829e-02,  8.6738e-01,  8.1654e-01,  3.3536e+00, -1.2939e+00,\n",
      "         -6.9766e-02, -1.2415e+00,  8.9193e-01,  1.3143e+00, -1.6706e-01,\n",
      "         -2.3960e+00, -1.0326e-01,  3.8541e-01,  4.4173e-01, -1.9207e-01,\n",
      "         -7.2181e-01,  1.9800e+00, -8.0662e-02, -1.7488e+00,  1.7730e-01,\n",
      "          1.8659e-01,  1.3736e-03,  1.8791e+00,  3.5461e-01, -2.4713e-01,\n",
      "         -9.1654e-01, -3.0707e-01,  5.6393e-01, -1.6088e+00,  5.1592e-01,\n",
      "          1.1802e+00, -1.3404e-01,  9.3338e-01,  7.2224e-01, -3.4505e-01],\n",
      "        [-1.7644e+00, -1.3833e-01,  1.1133e+00, -4.0413e-01, -1.1092e+00,\n",
      "         -1.3355e+00, -2.8236e-01, -1.8864e-01,  1.2660e+00, -2.4684e-01,\n",
      "         -1.0844e+00, -3.4232e-01,  2.9161e+00, -1.3246e+00,  2.2629e+00,\n",
      "         -2.1226e-01,  3.5903e-01,  1.7355e-01, -1.9142e-01,  6.5416e-01,\n",
      "          1.0704e+00,  3.7427e-01, -8.4554e-01, -1.6778e+00, -5.4151e-01,\n",
      "         -4.8659e-01, -1.8144e+00,  1.1471e+00, -2.3493e+00, -1.4458e-01,\n",
      "          8.2980e-01, -1.1600e+00,  2.7390e-02,  2.0661e-01,  3.3767e-01,\n",
      "         -3.2053e-01,  1.3465e+00,  6.9412e-01, -3.0828e-01, -9.2502e-01,\n",
      "          3.1320e-01,  1.7716e-01,  9.1975e-01, -1.5254e-01, -1.0241e+00,\n",
      "          4.5805e-01,  3.1057e-01,  1.7180e+00,  1.0582e+00, -1.2969e-01,\n",
      "          2.3055e+00,  3.0352e-02,  5.2401e-02, -1.3160e+00,  7.0193e-01,\n",
      "         -3.1101e-01, -3.0806e-01, -4.8374e-01,  2.1264e-01,  1.7345e-01,\n",
      "          4.5012e-01,  2.6210e-01,  5.5342e-01,  2.5619e+00,  1.3583e+00,\n",
      "         -6.2515e-01,  4.1352e-01,  1.1530e+00,  2.0384e+00,  4.7433e-01,\n",
      "          5.9263e-02,  6.2452e-01,  2.0697e+00,  1.0692e+00,  3.9802e-02,\n",
      "          3.8571e-01,  1.3313e-01,  1.5588e+00, -4.6407e-01,  1.8386e+00,\n",
      "          1.2765e+00,  1.6147e+00,  3.8039e-02, -7.1089e-01, -5.7857e-01,\n",
      "         -1.0936e+00,  3.9592e-01,  6.4077e-01,  1.0105e+00, -7.8377e-01,\n",
      "          6.1484e-01,  1.9362e+00, -6.6056e-01, -1.8160e+00, -7.2352e-01,\n",
      "          8.8890e-01, -7.5178e-01,  2.0420e+00,  1.9061e+00, -2.4851e-02],\n",
      "        [ 1.4143e+00,  2.4069e+00,  9.4850e-02,  4.6727e-01, -8.1295e-01,\n",
      "          3.6132e-01, -2.8727e-02, -1.3664e-01, -1.5660e-01, -8.0126e-01,\n",
      "         -1.4768e+00, -1.0371e+00,  3.4934e-01,  1.6821e-01,  9.2261e-01,\n",
      "         -6.6631e-02, -9.8148e-01,  8.6161e-01, -8.3873e-01, -3.7367e-01,\n",
      "         -2.1791e-01, -2.4444e-01,  1.1743e+00,  1.2009e+00,  1.3708e+00,\n",
      "         -4.7980e-01,  1.9388e+00, -5.0753e-01,  6.7379e-01, -8.9671e-01,\n",
      "          2.6626e-01, -2.1879e-02,  1.7378e-02, -5.0453e-01, -9.4926e-01,\n",
      "         -1.9465e+00, -2.8240e-01,  7.4115e-01,  1.8701e+00,  1.3840e+00,\n",
      "         -2.5868e-01, -8.9696e-01, -1.8466e-01,  1.0532e+00,  1.5288e-01,\n",
      "         -1.8664e-01, -6.8328e-01,  1.6053e+00, -7.4157e-01, -9.2500e-01,\n",
      "         -3.8736e-01,  6.7559e-01,  9.0903e-01, -6.3881e-02,  3.2302e-01,\n",
      "         -1.4006e+00,  2.0312e+00, -8.2032e-01, -1.1933e+00, -1.5575e+00,\n",
      "         -4.5600e-01,  1.6698e+00, -4.4892e-01,  1.5617e+00, -5.6647e-02,\n",
      "          4.7332e-01, -9.6906e-01, -1.1590e+00, -1.5915e+00, -4.6252e-01,\n",
      "         -4.5615e-01,  5.8853e-01, -2.1296e+00,  1.2667e+00,  4.5377e-02,\n",
      "          1.8612e+00, -6.7739e-01, -2.1706e+00,  1.7579e-01, -6.3544e-02,\n",
      "          2.0637e-01, -5.9644e-01, -1.1914e+00, -1.8863e-01, -3.7581e-01,\n",
      "         -1.5327e+00,  1.4098e+00,  2.7720e-01,  3.4591e-02,  1.9457e+00,\n",
      "          1.4614e+00, -4.3905e-01,  8.0279e-01, -4.1825e-01,  9.8239e-01,\n",
      "          8.2974e-01,  8.8864e-01, -1.9195e-01,  1.0176e+00, -5.4989e-01],\n",
      "        [ 5.8891e-01, -2.5729e-01, -5.1538e-01,  1.9162e+00,  1.1512e+00,\n",
      "         -1.3715e+00,  1.2793e+00, -4.6034e-02, -1.0017e+00,  4.2787e-01,\n",
      "          3.6680e-01,  7.2941e-01,  1.1836e-01,  4.4597e-01,  7.2731e-01,\n",
      "          1.3013e+00,  3.3810e-01, -3.9961e-01,  9.9387e-03,  5.5636e-02,\n",
      "         -9.0904e-02,  2.7982e-03,  4.5356e-01, -3.6893e-01,  1.1625e+00,\n",
      "         -3.8283e-01,  5.0672e-01, -8.1259e-01,  1.6238e+00, -5.6868e-01,\n",
      "         -1.1801e+00,  6.6020e-02,  2.8052e-01, -1.0483e+00, -6.5790e-01,\n",
      "          3.7060e-01, -4.9696e-01,  6.1251e-01, -1.0838e-01, -2.8327e-01,\n",
      "          4.0247e-01,  3.8454e-01, -1.3708e+00, -5.2503e-01, -1.8399e+00,\n",
      "         -7.9898e-01,  9.5252e-01, -5.4700e-01,  1.4216e+00,  8.6602e-01,\n",
      "         -2.1309e+00,  1.0805e+00, -1.1965e+00, -2.0547e-01,  1.5190e+00,\n",
      "          9.5663e-01, -3.9560e-01, -1.3054e+00,  9.1195e-01,  1.2697e+00,\n",
      "          3.3902e-01, -3.5039e-01, -3.9827e-01,  1.3119e+00, -8.5613e-01,\n",
      "         -1.2755e+00,  3.6933e-01,  3.1732e+00,  6.7573e-01,  2.9695e-03,\n",
      "          2.8231e+00,  1.3333e+00, -2.4965e-01,  1.0115e+00, -1.8114e-01,\n",
      "          1.2490e+00, -4.7939e-01, -1.8556e-01,  4.9773e-01,  3.8089e-01,\n",
      "          8.6139e-01, -1.6291e+00, -3.9271e-01,  7.5182e-01,  4.3174e-01,\n",
      "          6.0989e-01, -5.2591e-01, -3.1263e-01,  8.1928e-02,  5.6671e-01,\n",
      "         -1.6532e+00,  1.2955e-01,  1.8701e+00,  1.0797e+00, -2.1208e+00,\n",
      "         -7.9483e-01, -8.7605e-01, -7.0556e-01,  1.2364e+00,  7.9974e-01],\n",
      "        [-6.5231e-01,  1.2895e+00,  7.0206e-01, -1.1066e+00, -1.3460e+00,\n",
      "          1.4401e+00,  3.8273e-01, -1.9767e+00,  6.1034e-01,  1.0040e+00,\n",
      "          7.2718e-01, -1.0735e+00,  2.2468e+00,  5.4967e-01, -1.0186e+00,\n",
      "         -1.7584e+00, -1.1441e-02,  2.0741e+00, -4.6326e-01,  3.2353e-01,\n",
      "          1.0667e+00,  6.4908e-01,  1.1003e-01,  3.6623e-02,  2.3553e-01,\n",
      "         -9.4344e-01, -1.2544e+00,  6.8248e-03,  6.2763e-02, -1.1515e+00,\n",
      "          5.4295e-01, -1.9712e+00,  1.3193e-01,  1.5567e-01,  7.6781e-01,\n",
      "         -1.9463e+00, -9.2436e-01,  2.9940e-01, -1.5612e-02,  3.0839e-01,\n",
      "          2.1440e-01, -2.2442e+00,  5.6219e-02, -1.4971e+00,  1.3354e+00,\n",
      "          7.2266e-01,  4.4478e-01,  1.9425e-02,  3.4414e-02,  8.8919e-01,\n",
      "         -1.3068e+00,  9.0426e-01, -1.0986e+00,  1.8842e+00,  1.4173e+00,\n",
      "          2.1328e-01, -5.6896e-02, -1.0162e+00,  1.6879e+00, -1.0506e+00,\n",
      "          3.0810e-01, -4.1291e-01, -3.6799e-01,  1.7139e-01, -1.3612e+00,\n",
      "          4.1643e-01,  1.0670e+00, -2.0143e+00,  1.1846e+00, -9.8025e-01,\n",
      "         -1.9336e+00,  1.3619e+00,  3.8378e-01, -9.9430e-01,  1.2625e-02,\n",
      "          8.2037e-01,  1.3280e+00, -5.0860e-02,  1.2125e+00, -1.4393e+00,\n",
      "         -3.7534e-01, -1.0988e+00, -4.4612e-01,  1.3856e+00, -5.5734e-01,\n",
      "          8.5218e-01,  8.3088e-01, -1.9232e-01, -2.3021e-01,  2.3736e+00,\n",
      "          1.0446e+00,  4.9791e-01,  2.0666e-02, -1.0692e+00,  2.5729e-02,\n",
      "         -6.6045e-02,  1.1749e+00,  7.1233e-01, -2.0122e-01,  5.2960e-01]])\n",
      "torch.Size([5, 10, 10])\n",
      "torch.Size([5, 100])\n",
      "torch.Size([5, 1])\n",
      "tensor([[-0.1758],\n",
      "        [ 0.6843],\n",
      "        [-0.0133],\n",
      "        [-0.4495],\n",
      "        [-0.1273]], grad_fn=<AddmmBackward0>)\n"
     ]
    }
   ],
   "source": [
    "# Example input\n",
    "num = 5\n",
    "matrices = torch.randn(num, 10, 10)\n",
    "#print(matrices)\n",
    "inputs = matrices.reshape(num, -1)\n",
    "#print(matrices)\n",
    "print(inputs)\n",
    "print(matrices.shape)\n",
    "print(inputs.shape)\n",
    "# Make prediction\n",
    "output = model(inputs)\n",
    "\n",
    "# Output shape should be (5, 1)\n",
    "print(output.shape)\n",
    "print(output)\n"
   ]
  },
  {
   "cell_type": "code",
   "execution_count": 32,
   "metadata": {},
   "outputs": [],
   "source": [
    "big_lst=[[[2, 2],[4, 4]]]"
   ]
  },
  {
   "cell_type": "code",
   "execution_count": 34,
   "metadata": {},
   "outputs": [
    {
     "ename": "TypeError",
     "evalue": "expected Tensor as element 0 in argument 0, but got list",
     "output_type": "error",
     "traceback": [
      "\u001b[0;31m---------------------------------------------------------------------------\u001b[0m",
      "\u001b[0;31mTypeError\u001b[0m                                 Traceback (most recent call last)",
      "\u001b[0;32m<ipython-input-34-2050914774e7>\u001b[0m in \u001b[0;36m<module>\u001b[0;34m\u001b[0m\n\u001b[0;32m----> 1\u001b[0;31m \u001b[0mtorch\u001b[0m\u001b[0;34m.\u001b[0m\u001b[0mstack\u001b[0m\u001b[0;34m(\u001b[0m\u001b[0mbig_lst\u001b[0m\u001b[0;34m,\u001b[0m\u001b[0mdim\u001b[0m\u001b[0;34m=\u001b[0m\u001b[0;36m0\u001b[0m\u001b[0;34m)\u001b[0m\u001b[0;34m\u001b[0m\u001b[0;34m\u001b[0m\u001b[0m\n\u001b[0m",
      "\u001b[0;31mTypeError\u001b[0m: expected Tensor as element 0 in argument 0, but got list"
     ]
    }
   ],
   "source": [
    "torch.stack(big_lst,dim=0)"
   ]
  },
  {
   "cell_type": "code",
   "execution_count": 24,
   "metadata": {},
   "outputs": [
    {
     "data": {
      "text/plain": [
       "Parameter containing:\n",
       "tensor([[ 0.4656, -0.4807,  0.4893, -0.0350,  0.1065,  0.2899,  0.3446, -0.1254,\n",
       "          0.2428, -0.3613],\n",
       "        [ 0.1132,  0.3993, -0.1618, -0.5326, -0.4436,  0.3228, -0.3539,  0.2722,\n",
       "          0.4139,  0.4044],\n",
       "        [ 0.2950,  0.3647,  0.3282, -0.2478,  0.5197,  0.0271,  0.5840,  0.5977,\n",
       "         -0.6185, -0.1180],\n",
       "        [-0.1891,  0.4527,  0.5513, -0.1589, -0.2911,  0.3575, -0.3273, -0.2956,\n",
       "         -0.5339,  0.3614],\n",
       "        [ 0.0959,  0.1561, -0.4735, -0.3678,  0.1647, -0.2288,  0.3427,  0.5433,\n",
       "          0.6167, -0.0705]], requires_grad=True)"
      ]
     },
     "execution_count": 24,
     "metadata": {},
     "output_type": "execute_result"
    }
   ],
   "source": [
    "weight = nn.Parameter(torch.FloatTensor(5, 10))\n",
    "nn.init.xavier_uniform_(weight)"
   ]
  },
  {
   "cell_type": "code",
   "execution_count": 37,
   "metadata": {},
   "outputs": [
    {
     "data": {
      "text/plain": [
       "Parameter containing:\n",
       "tensor([[7.0065e-45, 0.0000e+00],\n",
       "        [0.0000e+00, 0.0000e+00]], requires_grad=True)"
      ]
     },
     "execution_count": 37,
     "metadata": {},
     "output_type": "execute_result"
    }
   ],
   "source": [
    "nn.Parameter(torch.FloatTensor(2,2))"
   ]
  },
  {
   "cell_type": "code",
   "execution_count": 26,
   "metadata": {},
   "outputs": [
    {
     "data": {
      "text/plain": [
       "torch.Size([5, 10])"
      ]
     },
     "execution_count": 26,
     "metadata": {},
     "output_type": "execute_result"
    }
   ],
   "source": [
    "weight.shape"
   ]
  },
  {
   "cell_type": "code",
   "execution_count": 38,
   "metadata": {},
   "outputs": [],
   "source": [
    "import torch\n",
    "\n",
    "# Create an input tensor of floats\n",
    "input_tensor = torch.FloatTensor([[1.0, 2.0, 3.0], [4.0, 5.0, 6.0]])\n",
    "\n",
    "# Create a linear layer with input size 3 and output size 5\n",
    "embedding_layer = torch.nn.Linear(3, 5)\n",
    "\n",
    "# Map the input tensor to the embedding space\n",
    "embedded_tensor = embedding_layer(input_tensor)"
   ]
  },
  {
   "cell_type": "code",
   "execution_count": 39,
   "metadata": {},
   "outputs": [
    {
     "data": {
      "text/plain": [
       "tensor([[-0.6863, -1.1459, -0.8800, -0.4141, -1.3625],\n",
       "        [-0.9485, -2.7478, -1.5578, -0.6512, -2.7455]],\n",
       "       grad_fn=<AddmmBackward0>)"
      ]
     },
     "execution_count": 39,
     "metadata": {},
     "output_type": "execute_result"
    }
   ],
   "source": [
    "embedded_tensor"
   ]
  }
 ],
 "metadata": {
  "kernelspec": {
   "display_name": "base",
   "language": "python",
   "name": "python3"
  },
  "language_info": {
   "codemirror_mode": {
    "name": "ipython",
    "version": 3
   },
   "file_extension": ".py",
   "mimetype": "text/x-python",
   "name": "python",
   "nbconvert_exporter": "python",
   "pygments_lexer": "ipython3",
   "version": "3.8.5"
  },
  "vscode": {
   "interpreter": {
    "hash": "40d3a090f54c6569ab1632332b64b2c03c39dcf918b08424e98f38b5ae0af88f"
   }
  }
 },
 "nbformat": 4,
 "nbformat_minor": 4
}
